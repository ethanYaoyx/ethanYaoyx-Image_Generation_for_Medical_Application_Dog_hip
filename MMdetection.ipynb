{
 "cells": [
  {
   "cell_type": "code",
   "execution_count": 1,
   "id": "c0bd15f4-7ef4-4fb6-bd2a-49137ac0e66d",
   "metadata": {},
   "outputs": [
    {
     "name": "stdout",
     "output_type": "stream",
     "text": [
      "Successfully copied files from /home/featurize/work/data/Test/ to /home/featurize/work/mmdetection/data/test\n"
     ]
    }
   ],
   "source": [
    "import shutil\n",
    "import os\n",
    "\n",
    "# 定义源目录和目标目录\n",
    "source_dir = '/home/featurize/work/data/Test/'\n",
    "target_dir = '/home/featurize/work/mmdetection/data/test'\n",
    "\n",
    "# 确保目标目录存在，如果不存在则创建\n",
    "os.makedirs(target_dir, exist_ok=True)\n",
    "\n",
    "# 逐个文件复制\n",
    "try:\n",
    "    for filename in os.listdir(source_dir):\n",
    "        source_file = os.path.join(source_dir, filename)\n",
    "        target_file = os.path.join(target_dir, filename)\n",
    "        if os.path.isfile(source_file):\n",
    "            shutil.copy2(source_file, target_file)\n",
    "    print(f\"Successfully copied files from {source_dir} to {target_dir}\")\n",
    "except Exception as e:\n",
    "    print(f\"Error copying files: {e}\")"
   ]
  },
  {
   "cell_type": "code",
   "execution_count": 2,
   "id": "805c1071-c938-411c-92b1-5b50c318da97",
   "metadata": {},
   "outputs": [
    {
     "name": "stdout",
     "output_type": "stream",
     "text": [
      "Successfully copied files from /home/featurize/work/data/Test/Images to /home/featurize/work/mmdetection/data/test/Images\n"
     ]
    }
   ],
   "source": [
    "source_dir = '/home/featurize/work/data/Test/Images'\n",
    "target_dir = '/home/featurize/work/mmdetection/data/test/Images'\n",
    "\n",
    "# 确保目标目录存在，如果不存在则创建\n",
    "os.makedirs(target_dir, exist_ok=True)\n",
    "\n",
    "# 逐个文件复制\n",
    "try:\n",
    "    for filename in os.listdir(source_dir):\n",
    "        source_file = os.path.join(source_dir, filename)\n",
    "        target_file = os.path.join(target_dir, filename)\n",
    "        if os.path.isfile(source_file):\n",
    "            shutil.copy2(source_file, target_file)\n",
    "    print(f\"Successfully copied files from {source_dir} to {target_dir}\")\n",
    "except Exception as e:\n",
    "    print(f\"Error copying files: {e}\")"
   ]
  },
  {
   "cell_type": "code",
   "execution_count": 9,
   "id": "2dec7a8c-f441-4a14-bada-a7623e772fd0",
   "metadata": {},
   "outputs": [],
   "source": [
    "import os\n",
    "#os.chdir('/home/featurize/work/mmpose')\n",
    "os.chdir('/home/featurize/work/mmdetection')"
   ]
  },
  {
   "cell_type": "code",
   "execution_count": 10,
   "id": "d5f80283-9955-4f94-a01f-8793af96b890",
   "metadata": {},
   "outputs": [
    {
     "name": "stdout",
     "output_type": "stream",
     "text": [
      "--2024-07-08 15:36:12--  https://zihao-openmmlab.obs.myhuaweicloud.com/20220610-mmpose/triangle_dataset/faster_r_cnn_triangle.py\n",
      "正在连接 172.16.0.13:5848... 已连接。\n",
      "已发出 Proxy 请求，正在等待回应... 200 OK\n",
      "长度： 8056 (7.9K) [binary/octet-stream]\n",
      "正在保存至: “data/faster_r_cnn_triangle.py”\n",
      "\n",
      "faster_r_cnn_triang 100%[===================>]   7.87K  --.-KB/s    用时 0.006s  \n",
      "\n",
      "2024-07-08 15:36:12 (1.26 MB/s) - 已保存 “data/faster_r_cnn_triangle.py” [8056/8056])\n",
      "\n"
     ]
    }
   ],
   "source": [
    "# Faster R CNN 三角板目标检测\n",
    "!rm -rf data/faster_r_cnn_triangle.py\n",
    "!wget https://zihao-openmmlab.obs.myhuaweicloud.com/20220610-mmpose/triangle_dataset/faster_r_cnn_triangle.py -P data"
   ]
  },
  {
   "cell_type": "code",
   "execution_count": 7,
   "id": "c8b6d846-8e78-4b17-966c-16877376667c",
   "metadata": {},
   "outputs": [
    {
     "name": "stdout",
     "output_type": "stream",
     "text": [
      "--2024-07-08 15:23:25--  https://zihao-openmmlab.obs.myhuaweicloud.com/20220610-mmpose/triangle_dataset/rtmdet_tiny_triangle.py\n",
      "正在连接 172.16.0.13:5848... 已连接。\n",
      "已发出 Proxy 请求，正在等待回应... 200 OK\n",
      "长度： 10495 (10K) [binary/octet-stream]\n",
      "正在保存至: “data/rtmdet_tiny_triangle.py”\n",
      "\n",
      "rtmdet_tiny_triangl 100%[===================>]  10.25K  --.-KB/s    用时 0.007s  \n",
      "\n",
      "2024-07-08 15:23:26 (1.38 MB/s) - 已保存 “data/rtmdet_tiny_triangle.py” [10495/10495])\n",
      "\n"
     ]
    }
   ],
   "source": [
    "# RTMDet-Tiny \n",
    "!rm -rf data/rtmdet_tiny_triangle.py\n",
    "!wget https://zihao-openmmlab.obs.myhuaweicloud.com/20220610-mmpose/triangle_dataset/rtmdet_tiny_triangle.py -P data"
   ]
  },
  {
   "cell_type": "code",
   "execution_count": 1,
   "id": "a3ef6968-646a-49e1-98f4-35251e9fc955",
   "metadata": {},
   "outputs": [],
   "source": [
    "import os\n",
    "os.chdir('mmdetection')\n",
    "# 建议在命令行中运行\n",
    "#!python tools/train.py data/rtmdet_dog_hip.py"
   ]
  },
  {
   "cell_type": "code",
   "execution_count": 2,
   "id": "b81e3308-7d28-4c94-b05d-0335a2750b80",
   "metadata": {},
   "outputs": [
    {
     "name": "stdout",
     "output_type": "stream",
     "text": [
      "07/25 06:48:59 - mmengine - \u001b[4m\u001b[37mINFO\u001b[0m - Key `message_hub` will be removed because it is not in save_keys. If you want to keep it, please set --save-keys.\n",
      "07/25 06:48:59 - mmengine - \u001b[4m\u001b[37mINFO\u001b[0m - Key `ema_state_dict` will be removed because it is not in save_keys. If you want to keep it, please set --save-keys.\n",
      "07/25 06:49:00 - mmengine - \u001b[4m\u001b[37mINFO\u001b[0m - The published model is saved at checkpoint/best_m_all_epoch_287-487eb8f1.pth.\n"
     ]
    }
   ],
   "source": [
    "# RTMDet-tiny\n",
    "!python tools/model_converters/publish_model.py \\\n",
    "        work_dirs/rtmdet_m_dog_hip_all/best_coco_bbox_mAP_epoch_287.pth \\\n",
    "        checkpoint/best_m_all_epoch_287.pth"
   ]
  },
  {
   "cell_type": "code",
   "execution_count": null,
   "id": "0aef1ed8-e1ab-41f6-892a-1f7e256b5169",
   "metadata": {},
   "outputs": [],
   "source": [
    "import os\n",
    "#os.chdir('mmdetection')\n",
    "# Faster-r-cnn\n",
    "# 建议在命令行中运行\n",
    "!python tools/train.py data/faster_r_cnn_dog_hip_center.py"
   ]
  },
  {
   "cell_type": "code",
   "execution_count": null,
   "id": "18937db7-35f8-4692-8fff-61968074ed34",
   "metadata": {},
   "outputs": [],
   "source": [
    "!python tools/model_converters/publish_model.py \\\n",
    "        work_dirs/rtmdet_dog_hip/best_coco_bbox_mAP_epoch_200.pth \\\n",
    "        checkpoint/best_coco_bbox_mAP_epoch_200.pth"
   ]
  },
  {
   "cell_type": "code",
   "execution_count": null,
   "id": "78df363c-b4a2-45f8-8856-1a359b3b4386",
   "metadata": {},
   "outputs": [],
   "source": [
    "/home/featurize/work/data/Test/cocoLabels_center.json"
   ]
  }
 ],
 "metadata": {
  "kernelspec": {
   "display_name": "Python 3 (ipykernel)",
   "language": "python",
   "name": "python3"
  },
  "language_info": {
   "codemirror_mode": {
    "name": "ipython",
    "version": 3
   },
   "file_extension": ".py",
   "mimetype": "text/x-python",
   "name": "python",
   "nbconvert_exporter": "python",
   "pygments_lexer": "ipython3",
   "version": "3.7.10"
  }
 },
 "nbformat": 4,
 "nbformat_minor": 5
}
